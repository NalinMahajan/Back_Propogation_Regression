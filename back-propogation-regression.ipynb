{
 "cells": [
  {
   "cell_type": "code",
   "execution_count": 1,
   "id": "32505d97",
   "metadata": {
    "_cell_guid": "b1076dfc-b9ad-4769-8c92-a6c4dae69d19",
    "_uuid": "8f2839f25d086af736a60e9eeb907d3b93b6e0e5",
    "execution": {
     "iopub.execute_input": "2022-10-18T23:32:14.777351Z",
     "iopub.status.busy": "2022-10-18T23:32:14.776357Z",
     "iopub.status.idle": "2022-10-18T23:32:14.790302Z",
     "shell.execute_reply": "2022-10-18T23:32:14.789197Z"
    },
    "papermill": {
     "duration": 0.028523,
     "end_time": "2022-10-18T23:32:14.793112",
     "exception": false,
     "start_time": "2022-10-18T23:32:14.764589",
     "status": "completed"
    },
    "tags": []
   },
   "outputs": [],
   "source": [
    "# This Python 3 environment comes with many helpful analytics libraries installed\n",
    "# It is defined by the kaggle/python Docker image: https://github.com/kaggle/docker-python\n",
    "# For example, here's several helpful packages to load\n",
    "\n",
    "import numpy as np # linear algebra\n",
    "import pandas as pd # data processing, CSV file I/O (e.g. pd.read_csv)\n",
    "\n",
    "# Input data files are available in the read-only \"../input/\" directory\n",
    "# For example, running this (by clicking run or pressing Shift+Enter) will list all files under the input directory\n",
    "\n",
    "import os\n",
    "for dirname, _, filenames in os.walk('/kaggle/input'):\n",
    "    for filename in filenames:\n",
    "        print(os.path.join(dirname, filename))\n",
    "\n",
    "# You can write up to 20GB to the current directory (/kaggle/working/) that gets preserved as output when you create a version using \"Save & Run All\" \n",
    "# You can also write temporary files to /kaggle/temp/, but they won't be saved outside of the current session"
   ]
  },
  {
   "cell_type": "code",
   "execution_count": 2,
   "id": "f602e3ed",
   "metadata": {
    "execution": {
     "iopub.execute_input": "2022-10-18T23:32:14.810473Z",
     "iopub.status.busy": "2022-10-18T23:32:14.810078Z",
     "iopub.status.idle": "2022-10-18T23:32:14.814778Z",
     "shell.execute_reply": "2022-10-18T23:32:14.813519Z"
    },
    "papermill": {
     "duration": 0.016461,
     "end_time": "2022-10-18T23:32:14.817325",
     "exception": false,
     "start_time": "2022-10-18T23:32:14.800864",
     "status": "completed"
    },
    "tags": []
   },
   "outputs": [],
   "source": [
    "import numpy as np\n",
    "import pandas as pd"
   ]
  },
  {
   "cell_type": "code",
   "execution_count": 3,
   "id": "0e98c768",
   "metadata": {
    "execution": {
     "iopub.execute_input": "2022-10-18T23:32:14.835285Z",
     "iopub.status.busy": "2022-10-18T23:32:14.834318Z",
     "iopub.status.idle": "2022-10-18T23:32:14.845373Z",
     "shell.execute_reply": "2022-10-18T23:32:14.844047Z"
    },
    "papermill": {
     "duration": 0.022629,
     "end_time": "2022-10-18T23:32:14.847889",
     "exception": false,
     "start_time": "2022-10-18T23:32:14.825260",
     "status": "completed"
    },
    "tags": []
   },
   "outputs": [],
   "source": [
    "df=pd.DataFrame([[8,8,4],[7,9,5],[6,10,6],[5,12,7]],columns=['cgpa','profile_score','lpa'])"
   ]
  },
  {
   "cell_type": "code",
   "execution_count": 4,
   "id": "9ad6f1a0",
   "metadata": {
    "execution": {
     "iopub.execute_input": "2022-10-18T23:32:14.865404Z",
     "iopub.status.busy": "2022-10-18T23:32:14.865008Z",
     "iopub.status.idle": "2022-10-18T23:32:14.892345Z",
     "shell.execute_reply": "2022-10-18T23:32:14.891163Z"
    },
    "papermill": {
     "duration": 0.038383,
     "end_time": "2022-10-18T23:32:14.894505",
     "exception": false,
     "start_time": "2022-10-18T23:32:14.856122",
     "status": "completed"
    },
    "tags": []
   },
   "outputs": [
    {
     "data": {
      "text/html": [
       "<div>\n",
       "<style scoped>\n",
       "    .dataframe tbody tr th:only-of-type {\n",
       "        vertical-align: middle;\n",
       "    }\n",
       "\n",
       "    .dataframe tbody tr th {\n",
       "        vertical-align: top;\n",
       "    }\n",
       "\n",
       "    .dataframe thead th {\n",
       "        text-align: right;\n",
       "    }\n",
       "</style>\n",
       "<table border=\"1\" class=\"dataframe\">\n",
       "  <thead>\n",
       "    <tr style=\"text-align: right;\">\n",
       "      <th></th>\n",
       "      <th>cgpa</th>\n",
       "      <th>profile_score</th>\n",
       "      <th>lpa</th>\n",
       "    </tr>\n",
       "  </thead>\n",
       "  <tbody>\n",
       "    <tr>\n",
       "      <th>0</th>\n",
       "      <td>8</td>\n",
       "      <td>8</td>\n",
       "      <td>4</td>\n",
       "    </tr>\n",
       "    <tr>\n",
       "      <th>1</th>\n",
       "      <td>7</td>\n",
       "      <td>9</td>\n",
       "      <td>5</td>\n",
       "    </tr>\n",
       "    <tr>\n",
       "      <th>2</th>\n",
       "      <td>6</td>\n",
       "      <td>10</td>\n",
       "      <td>6</td>\n",
       "    </tr>\n",
       "    <tr>\n",
       "      <th>3</th>\n",
       "      <td>5</td>\n",
       "      <td>12</td>\n",
       "      <td>7</td>\n",
       "    </tr>\n",
       "  </tbody>\n",
       "</table>\n",
       "</div>"
      ],
      "text/plain": [
       "   cgpa  profile_score  lpa\n",
       "0     8              8    4\n",
       "1     7              9    5\n",
       "2     6             10    6\n",
       "3     5             12    7"
      ]
     },
     "execution_count": 4,
     "metadata": {},
     "output_type": "execute_result"
    }
   ],
   "source": [
    "df.head()"
   ]
  },
  {
   "cell_type": "code",
   "execution_count": 5,
   "id": "5fae0cb6",
   "metadata": {
    "execution": {
     "iopub.execute_input": "2022-10-18T23:32:14.911819Z",
     "iopub.status.busy": "2022-10-18T23:32:14.911378Z",
     "iopub.status.idle": "2022-10-18T23:32:14.918061Z",
     "shell.execute_reply": "2022-10-18T23:32:14.916915Z"
    },
    "papermill": {
     "duration": 0.018033,
     "end_time": "2022-10-18T23:32:14.920343",
     "exception": false,
     "start_time": "2022-10-18T23:32:14.902310",
     "status": "completed"
    },
    "tags": []
   },
   "outputs": [],
   "source": [
    "def initialize_parameters(layer_dims):\n",
    "    np.random.seed(3)\n",
    "    parameters={}\n",
    "    L=len(layer_dims)\n",
    "    for l in range(1,L):\n",
    "        \n",
    "        parameters['W'+str(l)]=np.ones((layer_dims[l-1],layer_dims[l]))*0.1\n",
    "        parameters['b'+str(l)]=np.zeros((layer_dims[l],1))\n",
    "    return parameters"
   ]
  },
  {
   "cell_type": "code",
   "execution_count": 6,
   "id": "692cd565",
   "metadata": {
    "execution": {
     "iopub.execute_input": "2022-10-18T23:32:14.939081Z",
     "iopub.status.busy": "2022-10-18T23:32:14.938417Z",
     "iopub.status.idle": "2022-10-18T23:32:14.945580Z",
     "shell.execute_reply": "2022-10-18T23:32:14.944033Z"
    },
    "papermill": {
     "duration": 0.020844,
     "end_time": "2022-10-18T23:32:14.948789",
     "exception": false,
     "start_time": "2022-10-18T23:32:14.927945",
     "status": "completed"
    },
    "tags": []
   },
   "outputs": [
    {
     "name": "stdout",
     "output_type": "stream",
     "text": [
      "{'W1': array([[0.1, 0.1],\n",
      "       [0.1, 0.1]]), 'b1': array([[0.],\n",
      "       [0.]]), 'W2': array([[0.1],\n",
      "       [0.1]]), 'b2': array([[0.]])}\n"
     ]
    }
   ],
   "source": [
    "print(initialize_parameters([2,2,1]))"
   ]
  },
  {
   "cell_type": "code",
   "execution_count": 7,
   "id": "639bfcda",
   "metadata": {
    "execution": {
     "iopub.execute_input": "2022-10-18T23:32:14.967511Z",
     "iopub.status.busy": "2022-10-18T23:32:14.966552Z",
     "iopub.status.idle": "2022-10-18T23:32:14.971434Z",
     "shell.execute_reply": "2022-10-18T23:32:14.970628Z"
    },
    "papermill": {
     "duration": 0.01625,
     "end_time": "2022-10-18T23:32:14.973611",
     "exception": false,
     "start_time": "2022-10-18T23:32:14.957361",
     "status": "completed"
    },
    "tags": []
   },
   "outputs": [],
   "source": [
    "def linear_forward(A_prev,W,b):\n",
    "    Z=np.dot(W.T,A_prev) + b\n",
    "    \n",
    "    return Z"
   ]
  },
  {
   "cell_type": "code",
   "execution_count": 8,
   "id": "54eaf1d5",
   "metadata": {
    "execution": {
     "iopub.execute_input": "2022-10-18T23:32:14.991652Z",
     "iopub.status.busy": "2022-10-18T23:32:14.990964Z",
     "iopub.status.idle": "2022-10-18T23:32:14.998367Z",
     "shell.execute_reply": "2022-10-18T23:32:14.997217Z"
    },
    "papermill": {
     "duration": 0.019092,
     "end_time": "2022-10-18T23:32:15.000688",
     "exception": false,
     "start_time": "2022-10-18T23:32:14.981596",
     "status": "completed"
    },
    "tags": []
   },
   "outputs": [],
   "source": [
    "#Forward Prop\n",
    "def L_layer_forward(X,parameters):\n",
    "    \n",
    "    A = X\n",
    "    L=len(parameters) // 2  #Number of layers in the neural network\n",
    "    \n",
    "    for l in range(1,L+1):\n",
    "        A_prev = A\n",
    "        wl = parameters['W' + str(l)]\n",
    "        bl = parameters['b' + str(l)]\n",
    "        print('A'+str(l-1)+': ',A_prev)\n",
    "        print('W'+str(l)+': ',wl)\n",
    "        print('b'+str(l)+': ',bl)\n",
    "        print('--'*20)\n",
    "        \n",
    "        A=linear_forward(A_prev,wl,bl)\n",
    "        print('A'+str(l)+': ',A)\n",
    "        print('**'*20)\n",
    "    \n",
    "    return A,A_prev"
   ]
  },
  {
   "cell_type": "code",
   "execution_count": 9,
   "id": "3de01242",
   "metadata": {
    "execution": {
     "iopub.execute_input": "2022-10-18T23:32:15.018670Z",
     "iopub.status.busy": "2022-10-18T23:32:15.018015Z",
     "iopub.status.idle": "2022-10-18T23:32:15.032491Z",
     "shell.execute_reply": "2022-10-18T23:32:15.031307Z"
    },
    "papermill": {
     "duration": 0.026402,
     "end_time": "2022-10-18T23:32:15.035208",
     "exception": false,
     "start_time": "2022-10-18T23:32:15.008806",
     "status": "completed"
    },
    "tags": []
   },
   "outputs": [
    {
     "name": "stdout",
     "output_type": "stream",
     "text": [
      "A0:  [[8]\n",
      " [8]]\n",
      "W1:  [[0.1 0.1]\n",
      " [0.1 0.1]]\n",
      "b1:  [[0.]\n",
      " [0.]]\n",
      "----------------------------------------\n",
      "A1:  [[1.6]\n",
      " [1.6]]\n",
      "****************************************\n",
      "A1:  [[1.6]\n",
      " [1.6]]\n",
      "W2:  [[0.1]\n",
      " [0.1]]\n",
      "b2:  [[0.]]\n",
      "----------------------------------------\n",
      "A2:  [[0.32]]\n",
      "****************************************\n"
     ]
    }
   ],
   "source": [
    "X=df[['cgpa','profile_score']].values[0].reshape(2,1) #Shape(no. of Features, no. of training example)\n",
    "y=df[['lpa']].values[0][0]\n",
    "parameters = initialize_parameters([2,2,1])\n",
    "\n",
    "y_hat,A1=L_layer_forward(X , parameters)"
   ]
  },
  {
   "cell_type": "code",
   "execution_count": 10,
   "id": "22371f43",
   "metadata": {
    "execution": {
     "iopub.execute_input": "2022-10-18T23:32:15.053029Z",
     "iopub.status.busy": "2022-10-18T23:32:15.052589Z",
     "iopub.status.idle": "2022-10-18T23:32:15.059778Z",
     "shell.execute_reply": "2022-10-18T23:32:15.058725Z"
    },
    "papermill": {
     "duration": 0.018539,
     "end_time": "2022-10-18T23:32:15.062003",
     "exception": false,
     "start_time": "2022-10-18T23:32:15.043464",
     "status": "completed"
    },
    "tags": []
   },
   "outputs": [
    {
     "data": {
      "text/plain": [
       "array([[8],\n",
       "       [8]])"
      ]
     },
     "execution_count": 10,
     "metadata": {},
     "output_type": "execute_result"
    }
   ],
   "source": [
    "X"
   ]
  },
  {
   "cell_type": "code",
   "execution_count": 11,
   "id": "b1b05234",
   "metadata": {
    "execution": {
     "iopub.execute_input": "2022-10-18T23:32:15.080727Z",
     "iopub.status.busy": "2022-10-18T23:32:15.080336Z",
     "iopub.status.idle": "2022-10-18T23:32:15.085741Z",
     "shell.execute_reply": "2022-10-18T23:32:15.084601Z"
    },
    "papermill": {
     "duration": 0.018058,
     "end_time": "2022-10-18T23:32:15.088087",
     "exception": false,
     "start_time": "2022-10-18T23:32:15.070029",
     "status": "completed"
    },
    "tags": []
   },
   "outputs": [],
   "source": [
    "y_hat=y_hat[0][0]"
   ]
  },
  {
   "cell_type": "code",
   "execution_count": 12,
   "id": "dfd4062c",
   "metadata": {
    "execution": {
     "iopub.execute_input": "2022-10-18T23:32:15.106001Z",
     "iopub.status.busy": "2022-10-18T23:32:15.105498Z",
     "iopub.status.idle": "2022-10-18T23:32:15.112954Z",
     "shell.execute_reply": "2022-10-18T23:32:15.111781Z"
    },
    "papermill": {
     "duration": 0.019347,
     "end_time": "2022-10-18T23:32:15.115422",
     "exception": false,
     "start_time": "2022-10-18T23:32:15.096075",
     "status": "completed"
    },
    "tags": []
   },
   "outputs": [
    {
     "data": {
      "text/plain": [
       "0.32000000000000006"
      ]
     },
     "execution_count": 12,
     "metadata": {},
     "output_type": "execute_result"
    }
   ],
   "source": [
    "y_hat"
   ]
  },
  {
   "cell_type": "code",
   "execution_count": 13,
   "id": "e25901b1",
   "metadata": {
    "execution": {
     "iopub.execute_input": "2022-10-18T23:32:15.134519Z",
     "iopub.status.busy": "2022-10-18T23:32:15.133567Z",
     "iopub.status.idle": "2022-10-18T23:32:15.140877Z",
     "shell.execute_reply": "2022-10-18T23:32:15.139943Z"
    },
    "papermill": {
     "duration": 0.019407,
     "end_time": "2022-10-18T23:32:15.143097",
     "exception": false,
     "start_time": "2022-10-18T23:32:15.123690",
     "status": "completed"
    },
    "tags": []
   },
   "outputs": [
    {
     "data": {
      "text/plain": [
       "array([[1.6],\n",
       "       [1.6]])"
      ]
     },
     "execution_count": 13,
     "metadata": {},
     "output_type": "execute_result"
    }
   ],
   "source": [
    "A1"
   ]
  },
  {
   "cell_type": "code",
   "execution_count": 14,
   "id": "27fb34fd",
   "metadata": {
    "execution": {
     "iopub.execute_input": "2022-10-18T23:32:15.161611Z",
     "iopub.status.busy": "2022-10-18T23:32:15.161168Z",
     "iopub.status.idle": "2022-10-18T23:32:15.231078Z",
     "shell.execute_reply": "2022-10-18T23:32:15.229680Z"
    },
    "papermill": {
     "duration": 0.080964,
     "end_time": "2022-10-18T23:32:15.232526",
     "exception": true,
     "start_time": "2022-10-18T23:32:15.151562",
     "status": "failed"
    },
    "tags": []
   },
   "outputs": [
    {
     "ename": "NameError",
     "evalue": "name 'update_parameters' is not defined",
     "output_type": "error",
     "traceback": [
      "\u001b[0;31m---------------------------------------------------------------------------\u001b[0m",
      "\u001b[0;31mNameError\u001b[0m                                 Traceback (most recent call last)",
      "\u001b[0;32m/tmp/ipykernel_18/3921651544.py\u001b[0m in \u001b[0;36m<module>\u001b[0;34m\u001b[0m\n\u001b[0;32m----> 1\u001b[0;31m \u001b[0mupdate_parameters\u001b[0m\u001b[0;34m(\u001b[0m\u001b[0mparameters\u001b[0m\u001b[0;34m,\u001b[0m\u001b[0my\u001b[0m\u001b[0;34m,\u001b[0m\u001b[0my_hat\u001b[0m\u001b[0;34m,\u001b[0m\u001b[0mA1\u001b[0m\u001b[0;34m,\u001b[0m\u001b[0mX\u001b[0m\u001b[0;34m)\u001b[0m\u001b[0;34m\u001b[0m\u001b[0;34m\u001b[0m\u001b[0m\n\u001b[0m",
      "\u001b[0;31mNameError\u001b[0m: name 'update_parameters' is not defined"
     ]
    }
   ],
   "source": [
    "update_parameters(parameters,y,y_hat,A1,X)"
   ]
  },
  {
   "cell_type": "code",
   "execution_count": null,
   "id": "4f85a394",
   "metadata": {
    "execution": {
     "iopub.execute_input": "2022-10-18T21:22:58.241800Z",
     "iopub.status.busy": "2022-10-18T21:22:58.241282Z",
     "iopub.status.idle": "2022-10-18T21:22:58.256777Z",
     "shell.execute_reply": "2022-10-18T21:22:58.255204Z",
     "shell.execute_reply.started": "2022-10-18T21:22:58.241758Z"
    },
    "papermill": {
     "duration": null,
     "end_time": null,
     "exception": null,
     "start_time": null,
     "status": "pending"
    },
    "tags": []
   },
   "outputs": [],
   "source": [
    "def update_parameters(parameters,y,y_hat,A1,X):\n",
    "    \n",
    "    parameters['W2'][0][0] = parameters['W2'][0][0] + (0.001 * 2 * (y - y_hat) * A1[0][0])\n",
    "    parameters['W2'][1][0] = parameters['W2'][1][0] + (0.001 * 2 *(y - y_hat)*A1[1][0])\n",
    "    parameters['b2'][0][0] = parameters['b2'][1][0] + (0.001 * 2 * (y - y_hat))\n",
    "    \n",
    "    parameters['W1'][0][0] = parameters['W1'][0][0] + (0.001 * 2 *(y - y_hat) * parameters['W2'][0][0] * X[0][0])\n",
    "    parameters['W1'][0][1] = parameters['W1'][0][1] + (0.001 * 2 *(y - y_hat) * parameters['W2'][0][0] * X[1][0])\n",
    "    parameters['b1'][0][0] = parameters['b1'][0][0] + (0.001 * 2 *(y - y_hat) * parameters['W2'][0][0])\n",
    "    \n",
    "    parameters['W1'][1][0] = parameters['W1'][1][0] + (0.001 * 2 *(y - y_hat) * parameters['W2'][1][0] * X[0][0])\n",
    "    parameters['W1'][1][1] = parameters['W1'][1][1] + (0.001 * 2 *(y - y_hat) * parameters['W2'][1][0] * X[1][0])\n",
    "    parameters['b1'][1][0] = parameters['b1'][1][0] + (0.001 * 2 *(y - y_hat) * parameters['W2'][1][0])"
   ]
  },
  {
   "cell_type": "code",
   "execution_count": null,
   "id": "bc9477de",
   "metadata": {
    "execution": {
     "iopub.execute_input": "2022-10-18T21:23:06.066665Z",
     "iopub.status.busy": "2022-10-18T21:23:06.066161Z",
     "iopub.status.idle": "2022-10-18T21:23:06.076459Z",
     "shell.execute_reply": "2022-10-18T21:23:06.074879Z",
     "shell.execute_reply.started": "2022-10-18T21:23:06.066626Z"
    },
    "papermill": {
     "duration": null,
     "end_time": null,
     "exception": null,
     "start_time": null,
     "status": "pending"
    },
    "tags": []
   },
   "outputs": [],
   "source": [
    "parameters"
   ]
  },
  {
   "cell_type": "code",
   "execution_count": null,
   "id": "1c09a826",
   "metadata": {
    "execution": {
     "iopub.execute_input": "2022-10-18T21:28:09.051897Z",
     "iopub.status.busy": "2022-10-18T21:28:09.050620Z",
     "iopub.status.idle": "2022-10-18T21:28:09.063114Z",
     "shell.execute_reply": "2022-10-18T21:28:09.061294Z",
     "shell.execute_reply.started": "2022-10-18T21:28:09.051845Z"
    },
    "papermill": {
     "duration": null,
     "end_time": null,
     "exception": null,
     "start_time": null,
     "status": "pending"
    },
    "tags": []
   },
   "outputs": [],
   "source": [
    "def fit(X_train,y_train,epochs=5):\n",
    "    \n",
    "    parameters= initialize_parameters([2,2,1])\n",
    "    \n",
    "    for i in range(epochs):\n",
    "        \n",
    "        Loss=[]\n",
    "        \n",
    "        for j in range(X_train.shape[0]):\n",
    "            \n",
    "            X = X_train.iloc[j,:].values.reshape(2,1)\n",
    "            y = y_train.iloc[j,-1:].values \n",
    "            \n",
    "            #Parameter Initialization\n",
    "            \n",
    "            y_hat,A1= L_layer_forward(X,parameters)\n",
    "            \n",
    "            y_hat= y_hat[0][0]\n",
    "            \n",
    "            update_parameters(parameters,y,y_hat,A1,X)\n",
    "            \n",
    "            Loss.append((y-y_hat)**2)\n",
    "        \n",
    "        print('Epoch - ',i+1,'Loss - ',np.array(Loss).mean())\n",
    "    print(parameters)"
   ]
  },
  {
   "cell_type": "code",
   "execution_count": null,
   "id": "955e8ace",
   "metadata": {
    "execution": {
     "iopub.execute_input": "2022-10-18T21:25:38.312648Z",
     "iopub.status.busy": "2022-10-18T21:25:38.312209Z",
     "iopub.status.idle": "2022-10-18T21:25:38.318540Z",
     "shell.execute_reply": "2022-10-18T21:25:38.317365Z",
     "shell.execute_reply.started": "2022-10-18T21:25:38.312612Z"
    },
    "papermill": {
     "duration": null,
     "end_time": null,
     "exception": null,
     "start_time": null,
     "status": "pending"
    },
    "tags": []
   },
   "outputs": [],
   "source": [
    "y_train=df.iloc[:,-1:]"
   ]
  },
  {
   "cell_type": "code",
   "execution_count": null,
   "id": "526d7e36",
   "metadata": {
    "execution": {
     "iopub.execute_input": "2022-10-18T21:25:11.424388Z",
     "iopub.status.busy": "2022-10-18T21:25:11.423940Z",
     "iopub.status.idle": "2022-10-18T21:25:11.431402Z",
     "shell.execute_reply": "2022-10-18T21:25:11.429743Z",
     "shell.execute_reply.started": "2022-10-18T21:25:11.424353Z"
    },
    "papermill": {
     "duration": null,
     "end_time": null,
     "exception": null,
     "start_time": null,
     "status": "pending"
    },
    "tags": []
   },
   "outputs": [],
   "source": [
    "X_train=df.iloc[:,:-1]"
   ]
  },
  {
   "cell_type": "code",
   "execution_count": null,
   "id": "a2a186b0",
   "metadata": {
    "execution": {
     "iopub.execute_input": "2022-10-18T21:28:13.860324Z",
     "iopub.status.busy": "2022-10-18T21:28:13.859838Z",
     "iopub.status.idle": "2022-10-18T21:28:13.905152Z",
     "shell.execute_reply": "2022-10-18T21:28:13.903706Z",
     "shell.execute_reply.started": "2022-10-18T21:28:13.860283Z"
    },
    "papermill": {
     "duration": null,
     "end_time": null,
     "exception": null,
     "start_time": null,
     "status": "pending"
    },
    "tags": []
   },
   "outputs": [],
   "source": [
    "fit(X_train,y_train)"
   ]
  },
  {
   "cell_type": "code",
   "execution_count": null,
   "id": "d2311b94",
   "metadata": {
    "execution": {
     "iopub.execute_input": "2022-10-18T21:38:46.270079Z",
     "iopub.status.busy": "2022-10-18T21:38:46.269567Z",
     "iopub.status.idle": "2022-10-18T21:38:46.276599Z",
     "shell.execute_reply": "2022-10-18T21:38:46.274892Z",
     "shell.execute_reply.started": "2022-10-18T21:38:46.270039Z"
    },
    "papermill": {
     "duration": null,
     "end_time": null,
     "exception": null,
     "start_time": null,
     "status": "pending"
    },
    "tags": []
   },
   "outputs": [],
   "source": [
    "# Now I'm gonna use the Keras Library\n",
    "\n",
    "import tensorflow\n",
    "from tensorflow import keras\n",
    "from keras import Sequential\n",
    "from keras.layers import Dense"
   ]
  },
  {
   "cell_type": "code",
   "execution_count": null,
   "id": "565c058b",
   "metadata": {
    "execution": {
     "iopub.execute_input": "2022-10-18T21:40:07.697004Z",
     "iopub.status.busy": "2022-10-18T21:40:07.696591Z",
     "iopub.status.idle": "2022-10-18T21:40:07.777633Z",
     "shell.execute_reply": "2022-10-18T21:40:07.776126Z",
     "shell.execute_reply.started": "2022-10-18T21:40:07.696970Z"
    },
    "papermill": {
     "duration": null,
     "end_time": null,
     "exception": null,
     "start_time": null,
     "status": "pending"
    },
    "tags": []
   },
   "outputs": [],
   "source": [
    "model=Sequential()\n",
    "\n",
    "model.add(Dense(2,activation='linear',input_dim=2))\n",
    "model.add(Dense(1,activation='linear'))"
   ]
  },
  {
   "cell_type": "code",
   "execution_count": null,
   "id": "ce0396a9",
   "metadata": {
    "execution": {
     "iopub.execute_input": "2022-10-18T21:40:15.007465Z",
     "iopub.status.busy": "2022-10-18T21:40:15.006073Z",
     "iopub.status.idle": "2022-10-18T21:40:15.015867Z",
     "shell.execute_reply": "2022-10-18T21:40:15.014441Z",
     "shell.execute_reply.started": "2022-10-18T21:40:15.007407Z"
    },
    "papermill": {
     "duration": null,
     "end_time": null,
     "exception": null,
     "start_time": null,
     "status": "pending"
    },
    "tags": []
   },
   "outputs": [],
   "source": [
    "model.summary()"
   ]
  },
  {
   "cell_type": "code",
   "execution_count": null,
   "id": "73f08754",
   "metadata": {
    "execution": {
     "iopub.execute_input": "2022-10-18T21:40:40.068291Z",
     "iopub.status.busy": "2022-10-18T21:40:40.067859Z",
     "iopub.status.idle": "2022-10-18T21:40:40.080060Z",
     "shell.execute_reply": "2022-10-18T21:40:40.078393Z",
     "shell.execute_reply.started": "2022-10-18T21:40:40.068257Z"
    },
    "papermill": {
     "duration": null,
     "end_time": null,
     "exception": null,
     "start_time": null,
     "status": "pending"
    },
    "tags": []
   },
   "outputs": [],
   "source": [
    "model.get_weights()"
   ]
  },
  {
   "cell_type": "code",
   "execution_count": null,
   "id": "2fb15ec9",
   "metadata": {
    "execution": {
     "iopub.execute_input": "2022-10-18T21:45:57.206996Z",
     "iopub.status.busy": "2022-10-18T21:45:57.206385Z",
     "iopub.status.idle": "2022-10-18T21:45:57.214435Z",
     "shell.execute_reply": "2022-10-18T21:45:57.213302Z",
     "shell.execute_reply.started": "2022-10-18T21:45:57.206951Z"
    },
    "papermill": {
     "duration": null,
     "end_time": null,
     "exception": null,
     "start_time": null,
     "status": "pending"
    },
    "tags": []
   },
   "outputs": [],
   "source": [
    "new_weights= [np.array([[0.1,0.1],[0.1,0.1]],\n",
    "                       dtype=np.float32),\n",
    "              np.array([0.,0.],\n",
    "                       dtype=np.float32),\n",
    "              np.array([[0.1],[0.1]],dtype=np.float32),\n",
    "             np.array([0.],dtype=np.float32)]"
   ]
  },
  {
   "cell_type": "code",
   "execution_count": null,
   "id": "93a76159",
   "metadata": {
    "execution": {
     "iopub.execute_input": "2022-10-18T21:46:06.259853Z",
     "iopub.status.busy": "2022-10-18T21:46:06.259318Z",
     "iopub.status.idle": "2022-10-18T21:46:06.269751Z",
     "shell.execute_reply": "2022-10-18T21:46:06.268199Z",
     "shell.execute_reply.started": "2022-10-18T21:46:06.259811Z"
    },
    "papermill": {
     "duration": null,
     "end_time": null,
     "exception": null,
     "start_time": null,
     "status": "pending"
    },
    "tags": []
   },
   "outputs": [],
   "source": [
    "new_weights"
   ]
  },
  {
   "cell_type": "code",
   "execution_count": null,
   "id": "e334412b",
   "metadata": {
    "execution": {
     "iopub.execute_input": "2022-10-18T21:46:29.614009Z",
     "iopub.status.busy": "2022-10-18T21:46:29.613541Z",
     "iopub.status.idle": "2022-10-18T21:46:29.622757Z",
     "shell.execute_reply": "2022-10-18T21:46:29.621292Z",
     "shell.execute_reply.started": "2022-10-18T21:46:29.613934Z"
    },
    "papermill": {
     "duration": null,
     "end_time": null,
     "exception": null,
     "start_time": null,
     "status": "pending"
    },
    "tags": []
   },
   "outputs": [],
   "source": [
    "model.set_weights(new_weights)"
   ]
  },
  {
   "cell_type": "code",
   "execution_count": null,
   "id": "e0c7f544",
   "metadata": {
    "execution": {
     "iopub.execute_input": "2022-10-18T21:46:41.398973Z",
     "iopub.status.busy": "2022-10-18T21:46:41.398515Z",
     "iopub.status.idle": "2022-10-18T21:46:41.410145Z",
     "shell.execute_reply": "2022-10-18T21:46:41.408833Z",
     "shell.execute_reply.started": "2022-10-18T21:46:41.398935Z"
    },
    "papermill": {
     "duration": null,
     "end_time": null,
     "exception": null,
     "start_time": null,
     "status": "pending"
    },
    "tags": []
   },
   "outputs": [],
   "source": [
    "model.get_weights()"
   ]
  },
  {
   "cell_type": "code",
   "execution_count": null,
   "id": "ed2afc48",
   "metadata": {
    "execution": {
     "iopub.execute_input": "2022-10-18T21:48:02.277871Z",
     "iopub.status.busy": "2022-10-18T21:48:02.277287Z",
     "iopub.status.idle": "2022-10-18T21:48:02.296116Z",
     "shell.execute_reply": "2022-10-18T21:48:02.294772Z",
     "shell.execute_reply.started": "2022-10-18T21:48:02.277826Z"
    },
    "papermill": {
     "duration": null,
     "end_time": null,
     "exception": null,
     "start_time": null,
     "status": "pending"
    },
    "tags": []
   },
   "outputs": [],
   "source": [
    "optimizer = keras.optimizers.Adam(learning_rate=0.001)\n",
    "\n",
    "model.compile(loss='mean_squared_error',optimizer=optimizer)"
   ]
  },
  {
   "cell_type": "code",
   "execution_count": null,
   "id": "5a1108c7",
   "metadata": {
    "execution": {
     "iopub.execute_input": "2022-10-18T21:49:42.069757Z",
     "iopub.status.busy": "2022-10-18T21:49:42.069330Z",
     "iopub.status.idle": "2022-10-18T21:49:43.424456Z",
     "shell.execute_reply": "2022-10-18T21:49:43.423111Z",
     "shell.execute_reply.started": "2022-10-18T21:49:42.069723Z"
    },
    "papermill": {
     "duration": null,
     "end_time": null,
     "exception": null,
     "start_time": null,
     "status": "pending"
    },
    "tags": []
   },
   "outputs": [],
   "source": [
    "model.fit(X_train.values,y_train.values,epochs=75,verbose=1,batch_size=1)"
   ]
  },
  {
   "cell_type": "code",
   "execution_count": null,
   "id": "be0e65fa",
   "metadata": {
    "execution": {
     "iopub.execute_input": "2022-10-18T21:50:00.084703Z",
     "iopub.status.busy": "2022-10-18T21:50:00.083334Z",
     "iopub.status.idle": "2022-10-18T21:50:00.094517Z",
     "shell.execute_reply": "2022-10-18T21:50:00.093014Z",
     "shell.execute_reply.started": "2022-10-18T21:50:00.084651Z"
    },
    "papermill": {
     "duration": null,
     "end_time": null,
     "exception": null,
     "start_time": null,
     "status": "pending"
    },
    "tags": []
   },
   "outputs": [],
   "source": [
    "model.get_weights()"
   ]
  }
 ],
 "metadata": {
  "kernelspec": {
   "display_name": "Python 3",
   "language": "python",
   "name": "python3"
  },
  "language_info": {
   "codemirror_mode": {
    "name": "ipython",
    "version": 3
   },
   "file_extension": ".py",
   "mimetype": "text/x-python",
   "name": "python",
   "nbconvert_exporter": "python",
   "pygments_lexer": "ipython3",
   "version": "3.7.12"
  },
  "papermill": {
   "default_parameters": {},
   "duration": 10.517475,
   "end_time": "2022-10-18T23:32:15.961828",
   "environment_variables": {},
   "exception": true,
   "input_path": "__notebook__.ipynb",
   "output_path": "__notebook__.ipynb",
   "parameters": {},
   "start_time": "2022-10-18T23:32:05.444353",
   "version": "2.3.4"
  }
 },
 "nbformat": 4,
 "nbformat_minor": 5
}
